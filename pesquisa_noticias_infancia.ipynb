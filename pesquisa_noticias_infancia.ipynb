{
  "nbformat": 4,
  "nbformat_minor": 0,
  "metadata": {
    "colab": {
      "provenance": [],
      "authorship_tag": "ABX9TyOuKuJ0Q99V2DfXnGq8q7f2",
      "include_colab_link": true
    },
    "kernelspec": {
      "name": "python3",
      "display_name": "Python 3"
    },
    "language_info": {
      "name": "python"
    }
  },
  "cells": [
    {
      "cell_type": "markdown",
      "metadata": {
        "id": "view-in-github",
        "colab_type": "text"
      },
      "source": [
        "<a href=\"https://colab.research.google.com/github/luizvalerio2020/blogdoluizvalerio/blob/master/pesquisa_noticias_infancia.ipynb\" target=\"_parent\"><img src=\"https://colab.research.google.com/assets/colab-badge.svg\" alt=\"Open In Colab\"/></a>"
      ]
    },
    {
      "cell_type": "code",
      "execution_count": 1,
      "metadata": {
        "id": "gssG6vxMB1FU"
      },
      "outputs": [],
      "source": [
        "# Import the Python SDK\n",
        "import google.generativeai as genai\n",
        "from google.colab import userdata\n",
        "api_key = userdata.get('SECRET_KEY')\n",
        "genai.configure(api_key=api_key)"
      ]
    },
    {
      "cell_type": "markdown",
      "source": [
        "Este projeto tem o objetivo de facilitar a busca de jornalistas por artigos e matérias sobre infância e adolescentes nos sites de notícia"
      ],
      "metadata": {
        "id": "RbYb7LSNCZ7h"
      }
    },
    {
      "cell_type": "code",
      "source": [
        "import requests\n",
        "from nltk.tokenize import word_tokenize\n",
        "from nltk.stem import WordNetLemmatizer\n",
        "\n",
        "# Função para buscar notícias\n",
        "def buscar_noticias(crianças e adolescentes):\n",
        "  \"\"\"\n",
        "  Busca notícias sobre um tema específico usando a API do Google News.\n",
        "\n",
        "  Args:\n",
        "    tema: A palavra-chave ou frase que deseja pesquisar.\n",
        "\n",
        "  Returns:\n",
        "    Uma lista de dicionários com informações sobre as notícias encontradas.\n",
        "  \"\"\"\n",
        "  url = \"https://news.googleapis.com/v1/articles?q={}&apiKey=YOUR_API_KEY\".format(tema)\n",
        "  response = requests.get(url)\n",
        "  data = response.json()\n",
        "  noticias = []\n",
        "  for artigo in data[\"items\"]:\n",
        "    noticias.append({\n",
        "      \"titulo\": artigo[\"title\"],\n",
        "      \"url\": artigo[\"url\"],\n",
        "      \"resumo\": artigo[\"snippet\"],\n",
        "    })\n",
        "  return noticias\n",
        "\n",
        "# Função para processar o texto do usuário\n",
        "def processar_texto(texto):\n",
        "  \"\"\"\n",
        "  Prepara o texto do usuário para ser usado pelo chatbot.\n",
        "\n",
        "  Args:\n",
        "    texto: O texto que o usuário digitou.\n",
        "\n",
        "  Returns:\n",
        "    Uma lista de palavras lematizadas e minúsculas.\n",
        "  \"\"\"\n",
        "  palavras = word_tokenize(texto.lower())\n",
        "  lemmatizer = WordNetLemmatizer()\n",
        "  return [lemmatizer.lemmatize(palavra) for palavra in palavras]\n",
        "\n",
        "# Loop principal do chatbot\n",
        "while True:\n",
        "  # Pergunta ao usuário o que ele deseja saber\n",
        "  pergunta = input(\"O que você gostaria de saber?\\n\")\n",
        "\n",
        "  # Processa o texto da pergunta\n",
        "  palavras_usuario = processar_texto(pergunta)\n",
        "\n",
        "  # Busca notícias com base nas palavras da pergunta\n",
        "  noticias = buscar_noticias(\" \".join(palavras_usuario))\n",
        "\n",
        "  # Se nenhuma notícia for encontrada, informa o usuário\n",
        "  if not noticias:\n",
        "    print(\"Não encontrei nenhuma notícia sobre esse assunto.\")\n",
        "  else:\n",
        "    # Mostra as notícias encontradas ao usuário\n",
        "    for noticia in noticias:\n",
        "      print(f\"**Título:** {noticia['titulo']}\")\n",
        "      print(f\"**Resumo:** {noticia['resumo']}\")\n",
        "      print(f\"**Link:** {noticia['url']}\\n\")\n",
        "\n",
        "  # Pergunta ao usuário se ele deseja fazer outra pergunta\n",
        "  outra_pergunta = input(\"Deseja fazer outra pergunta? (sim/não)\\n\")\n",
        "  if outra_pergunta.lower() != \"sim\":\n",
        "    break\n"
      ],
      "metadata": {
        "id": "o4aADPFWCn-Q"
      },
      "execution_count": null,
      "outputs": []
    },
    {
      "cell_type": "markdown",
      "source": [
        "Esta próxima parte do código tem o objetivo de fazer o cahtbot responder as perguntas frequentes dos usuários de forma automática"
      ],
      "metadata": {
        "id": "PFHFkbiDDJmY"
      }
    },
    {
      "cell_type": "code",
      "source": [
        "# Perguntas e respostas frequentes\n",
        "FAQ = {\n",
        "  \"Quais são as últimas notícias?\": \"Você pode encontrar as últimas notícias sobre diversos temas na página inicial do nosso site: https://g1.globo.com/.\",\n",
        "  \"Como posso me inscrever para receber alertas de notícias?\": \"Você pode se inscrever para receber alertas de notícias por e-mail ou SMS na nossa página de inscrições: https://g1.globo.com//inscricoes\",\n",
        "  \"Como posso entrar em contato com a equipe de jornalismo?\": \"Você pode entrar em contato com a equipe de jornalismo pelo e-mail: contato@seudominio.com.br ou pelo telefone: (XX) XXXX-XXXX.\",\n",
        "  \"Como posso enviar uma sugestão de pauta?\": \"Você pode enviar sugestões de pauta para a equipe de jornalismo pelo e-mail: pautas@seudominio.com.br.\",\n",
        "}\n",
        "\n",
        "# Função para responder perguntas frequentes\n",
        "def responder_faq(pergunta):\n",
        "  \"\"\"\n",
        "  Responde perguntas frequentes com base em um dicionário de perguntas e respostas.\n",
        "\n",
        "  Args:\n",
        "    pergunta: A pergunta que o usuário digitou.\n",
        "\n",
        "  Returns:\n",
        "    A resposta para a pergunta ou uma mensagem informando que a pergunta não foi encontrada.\n",
        "  \"\"\"\n",
        "  palavras_usuario = processar_texto(pergunta)\n",
        "  for palavra_chave in FAQ.keys():\n",
        "    if any(palavra in palavras_usuario for palavra in palavra_chave.split()):\n",
        "      return FAQ[palavra_chave]\n",
        "  return \"Desculpe, não encontrei nenhuma resposta para sua pergunta na nossa base de conhecimento.\"\n",
        "\n",
        "# Loop principal do chatbot\n",
        "while True:\n",
        "  # ... (o restante do código principal do chatbot)\n",
        "\n",
        "  # Processa o texto da pergunta\n",
        "  palavras_usuario = processar_texto(pergunta)\n",
        "\n",
        "  # Verifica se a pergunta é uma pergunta frequente\n",
        "  resposta_faq = responder_faq(pergunta)\n",
        "  if resposta_faq:\n",
        "    print(resposta_faq)\n",
        "  else:\n",
        "    # Se a pergunta não for uma pergunta frequente, busca notícias\n",
        "    # ... (o restante do código para buscar notícias)\n"
      ],
      "metadata": {
        "id": "B4f6H7SJC-ap"
      },
      "execution_count": null,
      "outputs": []
    }
  ]
}